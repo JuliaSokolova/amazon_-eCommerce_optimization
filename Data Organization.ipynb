{
 "cells": [
  {
   "cell_type": "code",
   "execution_count": 209,
   "metadata": {},
   "outputs": [],
   "source": [
    "import pandas as pd\n",
    "import numpy as np"
   ]
  },
  {
   "cell_type": "code",
   "execution_count": 210,
   "metadata": {},
   "outputs": [],
   "source": [
    "campaign = pd.read_csv('data/AMSCampaign.csv')\n",
    "campaign_details = pd.read_csv('data/AMSCampaignDetail.csv')\n",
    "\n",
    "target = pd.read_csv('data/AMSTarget.csv')\n",
    "target_placement = pd.read_csv('data/AMSTargetPlacementDetail.csv')\n",
    "\n",
    "placement = pd.read_csv('data/AMSPlacement.csv')\n",
    "\n",
    "ad_group = pd.read_csv('data/AMSAdGroup.csv')\n",
    "ad_group_details = pd.read_csv('data/AMSAdGroupDetail.csv')\n",
    "\n",
    "search = pd.read_csv('data/AMSSearch.csv')\n",
    "search_details = pd.read_csv('data/AMSSearchDetail.csv')"
   ]
  },
  {
   "cell_type": "code",
   "execution_count": 211,
   "metadata": {},
   "outputs": [],
   "source": [
    "#Add campaign ID to ad groups\n",
    "ad_group_details = ad_group_details.join(ad_group.set_index('id'), on='ad_groups')\n",
    "ad_group_details = ad_group_details.drop(['name'], axis=1)\n",
    "ad_group_details = ad_group_details.join(campaign.set_index('id'), on='campaign')"
   ]
  },
  {
   "cell_type": "code",
   "execution_count": 212,
   "metadata": {},
   "outputs": [],
   "source": [
    "#add target terms and placement terms to target_placement details\n",
    "target_placement = target_placement.join(target.set_index('id'), on='target')\n",
    "target_placement = target_placement.rename(columns={\"term\": \"target_term\", \"match_type\": \"target_match_type\"})\n",
    "placement = placement.rename(columns={\"placement\": \"placement_type\"})\n",
    "placement = placement.drop(['campaign'], axis=1)\n",
    "target_placement = target_placement.join(placement.set_index('id'), on = 'placement')"
   ]
  },
  {
   "cell_type": "code",
   "execution_count": 213,
   "metadata": {},
   "outputs": [],
   "source": [
    "#add details to search \n",
    "search = search.join(target.set_index('id'), on='target')\n",
    "search_details = search_details.join(search.set_index('id'), on='search')\n",
    "search_details = search_details.rename(columns={\"term\": \"target_term\", \"match_type\": \"target_match_type\"})"
   ]
  },
  {
   "cell_type": "code",
   "execution_count": 214,
   "metadata": {},
   "outputs": [],
   "source": [
    "#all events for one product\n",
    "B002UVKMVY = ad_group_details[ad_group_details.asin == 'B002UVKMVY'].sort_values(by = ['sales'], ascending = False)"
   ]
  },
  {
   "cell_type": "code",
   "execution_count": 9,
   "metadata": {},
   "outputs": [],
   "source": [
    "#choose one product\n",
    "product = 'B001G7PQM8'\n",
    "\n",
    "#find all ad groups for this product\n",
    "product_ad_groups = ad_group_details[ad_group_details.asin == product].ad_groups.unique()\n",
    "\n",
    "#find all campaigns with those ad groups\n",
    "camps = []\n",
    "for i in product_ad_groups:\n",
    "    campaign_num = ad_group[ad_group.id == i].campaign.values\n",
    "    #np.insert(b, campaign_num)\n",
    "    camps.append(campaign_num)\n",
    "product_campaigns = set(np.array(camps).flatten())"
   ]
  },
  {
   "cell_type": "code",
   "execution_count": 12,
   "metadata": {},
   "outputs": [
    {
     "data": {
      "text/plain": [
       "array([1240])"
      ]
     },
     "execution_count": 12,
     "metadata": {},
     "output_type": "execute_result"
    }
   ],
   "source": [
    "ad_group[ad_group.id == 1].campaign.values"
   ]
  },
  {
   "cell_type": "code",
   "execution_count": 229,
   "metadata": {},
   "outputs": [
    {
     "data": {
      "text/plain": [
       "{1231, 1234, 1239, 1240, 2042, 3284, 55306, 170649, 172418}"
      ]
     },
     "execution_count": 229,
     "metadata": {},
     "output_type": "execute_result"
    }
   ],
   "source": [
    "product_campaigns"
   ]
  },
  {
   "cell_type": "code",
   "execution_count": 230,
   "metadata": {},
   "outputs": [
    {
     "data": {
      "text/plain": [
       "array([    1,   196,   216,   255,  2504,  4606,  4879,  4901,  4938,\n",
       "        4975,  6273,  6295,  8042, 10067])"
      ]
     },
     "execution_count": 230,
     "metadata": {},
     "output_type": "execute_result"
    }
   ],
   "source": [
    "product_ad_groups"
   ]
  },
  {
   "cell_type": "code",
   "execution_count": 231,
   "metadata": {},
   "outputs": [],
   "source": [
    "product_target = []\n",
    "for camp in product_campaigns:\n",
    "    target_term = target[target.campaign == camp].term.values\n",
    "    product_target.append(target_term)"
   ]
  },
  {
   "cell_type": "code",
   "execution_count": 237,
   "metadata": {},
   "outputs": [
    {
     "data": {
      "text/plain": [
       "1977    8 oz hand sanitizer with pump\n",
       "1978    8 oz hand sanitizer with pump\n",
       "1979    8 oz hand sanitizer with pump\n",
       "1980               8oz hand sanitizer\n",
       "1981               8oz hand sanitizer\n",
       "                    ...              \n",
       "2291              unscented hand soap\n",
       "2292              unscented hand soap\n",
       "2293             vegan hand sanitizer\n",
       "2294             vegan hand sanitizer\n",
       "2295             vegan hand sanitizer\n",
       "Name: term, Length: 319, dtype: object"
      ]
     },
     "execution_count": 237,
     "metadata": {},
     "output_type": "execute_result"
    }
   ],
   "source": [
    "target[target.campaign == 1231].term"
   ]
  },
  {
   "cell_type": "code",
   "execution_count": 226,
   "metadata": {},
   "outputs": [
    {
     "data": {
      "text/plain": [
       "array([1234])"
      ]
     },
     "execution_count": 226,
     "metadata": {},
     "output_type": "execute_result"
    }
   ],
   "source": [
    "campaign_num = ad_group[ad_group.id == 255].campaign.values\n",
    "campaign_num"
   ]
  },
  {
   "cell_type": "code",
   "execution_count": null,
   "metadata": {},
   "outputs": [],
   "source": []
  }
 ],
 "metadata": {
  "kernelspec": {
   "display_name": "Python 3",
   "language": "python",
   "name": "python3"
  },
  "language_info": {
   "codemirror_mode": {
    "name": "ipython",
    "version": 3
   },
   "file_extension": ".py",
   "mimetype": "text/x-python",
   "name": "python",
   "nbconvert_exporter": "python",
   "pygments_lexer": "ipython3",
   "version": "3.7.6"
  }
 },
 "nbformat": 4,
 "nbformat_minor": 4
}
